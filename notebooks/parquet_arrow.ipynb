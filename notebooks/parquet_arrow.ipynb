{
 "cells": [
  {
   "cell_type": "code",
   "execution_count": 10,
   "id": "97b37454-076e-47a1-b455-8c8c097e6409",
   "metadata": {},
   "outputs": [
    {
     "name": "stdout",
     "output_type": "stream",
     "text": [
      "/db_root/db/trades~18\n"
     ]
    }
   ],
   "source": [
    "import glob\n",
    "trades_table_path=glob.glob('/db_root/db/trades~*[!.lock]')[0]\n",
    "print(trades_table_path)"
   ]
  },
  {
   "cell_type": "code",
   "execution_count": 11,
   "id": "25a2f274-5324-4561-9ab6-e52d1389bcac",
   "metadata": {},
   "outputs": [
    {
     "data": {
      "text/plain": [
       "symbol: string\n",
       "  -- field metadata --\n",
       "  PARQUET:field_id: '0'\n",
       "side: string\n",
       "  -- field metadata --\n",
       "  PARQUET:field_id: '1'\n",
       "price: double\n",
       "  -- field metadata --\n",
       "  PARQUET:field_id: '2'\n",
       "amount: double\n",
       "  -- field metadata --\n",
       "  PARQUET:field_id: '3'\n",
       "timestamp: timestamp[us, tz=UTC]\n",
       "  -- field metadata --\n",
       "  PARQUET:field_id: '4'\n",
       "-- schema metadata --\n",
       "questdb: '{\"version\":1,\"schema\":[{\"column_type\":12,\"format\":1},{\"column_t' + 77"
      ]
     },
     "execution_count": 11,
     "metadata": {},
     "output_type": "execute_result"
    }
   ],
   "source": [
    "import pyarrow.dataset as ds\n",
    "import os\n",
    "\n",
    "# Define the base directory\n",
    "base_dir = trades_table_path\n",
    "\n",
    "dataset = ds.dataset(\n",
    "    base_dir,\n",
    "    format=\"parquet\",\n",
    "    partitioning=\"hive\", \n",
    "    exclude_invalid_files=True  \n",
    "\n",
    ")\n",
    "\n",
    "dataset.schema"
   ]
  },
  {
   "cell_type": "code",
   "execution_count": 12,
   "id": "6f80905d-3132-44fc-ad83-509a1c195142",
   "metadata": {},
   "outputs": [
    {
     "name": "stdout",
     "output_type": "stream",
     "text": [
      "211459515\n"
     ]
    }
   ],
   "source": [
    "print(dataset.count_rows())"
   ]
  },
  {
   "cell_type": "code",
   "execution_count": 6,
   "id": "c6d60180-85eb-4b74-bd54-3c3e100d8cd4",
   "metadata": {},
   "outputs": [
    {
     "name": "stdout",
     "output_type": "stream",
     "text": [
      "pyarrow.Table\n",
      "symbol: string\n",
      "side: string\n",
      "price: double\n",
      "amount: double\n",
      "timestamp: timestamp[us, tz=UTC]\n",
      "----\n",
      "symbol: [[\"DOT-USD\",\"LTC-USD\",\"ETH-USD\",\"BTC-USD\",\"XLM-USD\",\"ETH-USDT\",\"SOL-USD\",\"ADA-USD\",\"AVAX-USD\",\"SOL-USD\"]]\n",
      "side: [[\"buy\",\"buy\",\"buy\",\"buy\",\"buy\",\"buy\",\"buy\",\"buy\",\"buy\",\"sell\"]]\n",
      "price: [[8.278547619047,80.105555555555,3342.659019607845,61196.341418918964,0.122351361445,3340.146315789473,125.81673076923,0.656197142857,41.071315789473,125.800136986301]]\n",
      "amount: [[39.607455338095,5.080278386,0.301281981078,0.0525110666891,564.286784114338,0.175457626315,10.597131643076,180.358174923142,11.139693980789,6.754355379315]]\n",
      "timestamp: [[2024-10-28 15:36:36.584209,2024-10-28 15:36:36.592822,2024-10-28 15:36:36.592840,2024-10-28 15:36:36.592854,2024-10-28 15:36:36.592860,2024-10-28 15:36:36.592864,2024-10-28 15:36:36.592868,2024-10-28 15:36:36.592873,2024-10-28 15:36:36.592876,2024-10-28 15:36:36.592880]]\n"
     ]
    }
   ],
   "source": [
    "print(dataset.head(10))"
   ]
  },
  {
   "cell_type": "code",
   "execution_count": 9,
   "id": "8ab73cd6-8513-4923-a2bb-2a4a3fca4c03",
   "metadata": {},
   "outputs": [
    {
     "data": {
      "text/plain": [
       "pyarrow.Table\n",
       "symbol: string\n",
       "side: string\n",
       "price: double\n",
       "amount: double\n",
       "timestamp: timestamp[us, tz=UTC]\n",
       "----\n",
       "symbol: [[\"DOT-USD\",\"LTC-USD\",\"ETH-USD\",\"BTC-USD\",\"XLM-USD\",...,\"ETH-BTC\",\"SHIB-USD\",\"ETH-USD\",\"ADA-USD\",\"DOT-USD\"],[\"LTC-USD\",\"SOL-USD\",\"UNI-USD\",\"ETH-USD\",\"AVAX-USD\",...,\"SOL-USD\",\"DOGE-USD\",\"LTC-USD\",\"AVAX-USD\",\"ADA-USD\"],...,[\"DOGE-USD\",\"LTC-USD\",\"XLM-USD\",\"ETH-DAI\",\"LTC-USD\",...,\"DOT-USD\",\"AVAX-USD\",\"MATIC-USD\",\"MATIC-USD\",\"LTC-USD\"],[\"ETH-USD\",\"LTC-USD\",\"UNI-USD\",\"XLM-USD\",\"LTC-USD\",...,\"ADA-USD\",\"DOGE-USD\",\"BTC-USD\",\"LTC-USD\",\"DAI-USD\"]]\n",
       "side: [[\"buy\",\"buy\",\"buy\",\"buy\",\"buy\",...,\"sell\",\"buy\",\"buy\",\"buy\",\"sell\"],[\"buy\",\"buy\",\"sell\",\"sell\",\"sell\",...,\"buy\",\"sell\",\"buy\",\"buy\",\"buy\"],...,[\"sell\",\"buy\",\"buy\",\"sell\",\"buy\",...,\"sell\",\"buy\",\"buy\",\"buy\",\"buy\"],[\"buy\",\"sell\",\"buy\",\"sell\",\"buy\",...,\"sell\",\"buy\",\"sell\",\"sell\",\"buy\"]]\n",
       "price: [[8.278547619047,80.105555555555,3342.659019607845,61196.341418918964,0.122351361445,...,0.055175,0.000019676736842105248,3445.762272727271,0.760516666666,8.928857142857],[89.070266666666,130.102884615384,11.55,3445.944639175257,43.411428571428,...,133.330833333333,0.120093333333,91.460769230769,42.27,0.67739090909],...,[0.1687575,86.379583333333,0.138959,3844.48,86.341111111111,...,10.1995,41,1.195534782608,1.195925,86.125833333333],[3836.542499999999,86.41125,14.097,0.137904944444,85.824285714285,...,0.7079,0.1671,68536.45076923075,86.342499999999,1.0013]]\n",
       "amount: [[39.607455338095,5.080278386,0.301281981078,0.0525110666891,564.286784114338,...,0.1177,28546878.684210528,0.248536378939,358.315654417499,39.206335185714],[5.9737498888,4.4139518875,28.539338,2.164912831649,21.512022272857,...,4.2188053575,2494.933333333333,3.590851903846,0.54784362,61.153162727272],...,[5190.18125,0.834058072916,181.215168324999,0.0034,3.512390502592,...,24.737924955,18.752153804166,419.630434782608,10.875,7.775597470833],[0.134382789583,6.92177659375,29.338,3464.622263975,0.200529771428,...,0.00766779,889.325,0.0124868026923,6.27128864,0.73328]]\n",
       "timestamp: [[2024-10-28 15:36:36.584209,2024-10-28 15:36:36.592822,2024-10-28 15:36:36.592840,2024-10-28 15:36:36.592854,2024-10-28 15:36:36.592860,...,2024-10-28 15:36:36.999178,2024-10-28 15:36:36.999181,2024-10-28 15:36:36.999185,2024-10-28 15:36:36.999189,2024-10-28 15:36:36.999192],[2024-10-28 15:36:36.999195,2024-10-28 15:36:36.999198,2024-10-28 15:36:36.999201,2024-10-28 15:36:36.999205,2024-10-28 15:36:36.999208,...,2024-10-28 15:36:37.180358,2024-10-28 15:36:37.180358,2024-10-28 15:36:37.180360,2024-10-28 15:36:37.180360,2024-10-28 15:36:37.180362],...,[2024-12-12 10:43:05.238814,2024-12-12 10:43:05.238820,2024-12-12 10:43:05.238821,2024-12-12 10:43:05.238876,2024-12-12 10:43:05.238902,...,2024-12-12 10:43:08.206974,2024-12-12 10:43:08.207022,2024-12-12 10:43:08.207024,2024-12-12 10:43:08.207045,2024-12-12 10:43:08.207051],[2024-12-12 10:43:08.207052,2024-12-12 10:43:08.207187,2024-12-12 10:43:08.207187,2024-12-12 10:43:08.207229,2024-12-12 10:43:08.207235,...,2024-12-12 10:43:11.017873,2024-12-12 10:43:11.018080,2024-12-12 10:43:11.018284,2024-12-12 10:43:11.018486,2024-12-12 10:43:11.018681]]"
      ]
     },
     "execution_count": 9,
     "metadata": {},
     "output_type": "execute_result"
    }
   ],
   "source": [
    "dataset.to_table()\n",
    " "
   ]
  },
  {
   "cell_type": "code",
   "execution_count": 13,
   "id": "6999f133-355d-4dd7-9c81-b3378c84ba48",
   "metadata": {},
   "outputs": [
    {
     "data": {
      "text/plain": [
       "21611340"
      ]
     },
     "execution_count": 13,
     "metadata": {},
     "output_type": "execute_result"
    }
   ],
   "source": [
    "import pyarrow.compute as pc\n",
    "dataset.filter(pc.field('symbol').isin([\"XLM-USD\",\"ETH-USDT\"])).count_rows()"
   ]
  },
  {
   "cell_type": "code",
   "execution_count": 21,
   "id": "faaabd2b-1d9b-4c92-bd75-0c4315247dd5",
   "metadata": {},
   "outputs": [
    {
     "ename": "FileNotFoundError",
     "evalue": "[Errno 2] Failed to open local file '/db/trades~18/2024-10-28.3136/data.parquet'. Detail: [errno 2] No such file or directory",
     "output_type": "error",
     "traceback": [
      "\u001b[0;31m---------------------------------------------------------------------------\u001b[0m",
      "\u001b[0;31mFileNotFoundError\u001b[0m                         Traceback (most recent call last)",
      "Cell \u001b[0;32mIn[21], line 2\u001b[0m\n\u001b[1;32m      1\u001b[0m \u001b[38;5;28;01mimport\u001b[39;00m \u001b[38;5;21;01mpyarrow\u001b[39;00m\u001b[38;5;21;01m.\u001b[39;00m\u001b[38;5;21;01mcompute\u001b[39;00m \u001b[38;5;28;01mas\u001b[39;00m \u001b[38;5;21;01mpc\u001b[39;00m\n\u001b[0;32m----> 2\u001b[0m \u001b[43mdataset\u001b[49m\u001b[38;5;241;43m.\u001b[39;49m\u001b[43mfilter\u001b[49m\u001b[43m(\u001b[49m\u001b[43mpc\u001b[49m\u001b[38;5;241;43m.\u001b[39;49m\u001b[43mfield\u001b[49m\u001b[43m(\u001b[49m\u001b[38;5;124;43m'\u001b[39;49m\u001b[38;5;124;43msymbol\u001b[39;49m\u001b[38;5;124;43m'\u001b[39;49m\u001b[43m)\u001b[49m\u001b[38;5;241;43m.\u001b[39;49m\u001b[43misin\u001b[49m\u001b[43m(\u001b[49m\u001b[43m[\u001b[49m\u001b[38;5;124;43m\"\u001b[39;49m\u001b[38;5;124;43mXLM-USD\u001b[39;49m\u001b[38;5;124;43m\"\u001b[39;49m\u001b[43m,\u001b[49m\u001b[38;5;124;43m\"\u001b[39;49m\u001b[38;5;124;43mETH-USDT\u001b[39;49m\u001b[38;5;124;43m\"\u001b[39;49m\u001b[43m]\u001b[49m\u001b[43m)\u001b[49m\u001b[43m)\u001b[49m\u001b[38;5;241;43m.\u001b[39;49m\u001b[43mcount_rows\u001b[49m\u001b[43m(\u001b[49m\u001b[43m)\u001b[49m\n",
      "File \u001b[0;32m/opt/conda/lib/python3.11/site-packages/pyarrow/_dataset.pyx:766\u001b[0m, in \u001b[0;36mpyarrow._dataset.Dataset.count_rows\u001b[0;34m()\u001b[0m\n",
      "File \u001b[0;32m/opt/conda/lib/python3.11/site-packages/pyarrow/_dataset.pyx:3697\u001b[0m, in \u001b[0;36mpyarrow._dataset.Scanner.count_rows\u001b[0;34m()\u001b[0m\n",
      "File \u001b[0;32m/opt/conda/lib/python3.11/site-packages/pyarrow/error.pxi:144\u001b[0m, in \u001b[0;36mpyarrow.lib.pyarrow_internal_check_status\u001b[0;34m()\u001b[0m\n",
      "File \u001b[0;32m/opt/conda/lib/python3.11/site-packages/pyarrow/error.pxi:113\u001b[0m, in \u001b[0;36mpyarrow.lib.check_status\u001b[0;34m()\u001b[0m\n",
      "\u001b[0;31mFileNotFoundError\u001b[0m: [Errno 2] Failed to open local file '/db/trades~18/2024-10-28.3136/data.parquet'. Detail: [errno 2] No such file or directory"
     ]
    }
   ],
   "source": [
    "import pyarrow.compute as pc\n",
    "dataset.filter(pc.field('symbol').isin([\"XLM-USD\",\"ETH-USDT\"])).count_rows()"
   ]
  },
  {
   "cell_type": "code",
   "execution_count": null,
   "id": "96ede425-2433-4490-bf0e-d4859d0a9768",
   "metadata": {},
   "outputs": [],
   "source": [
    "df = dataset.to_table().to_pandas()\n",
    "print(df.head())  "
   ]
  },
  {
   "cell_type": "code",
   "execution_count": 17,
   "id": "1c3fa31c-96a2-4cf0-bd95-cd84a56b6ec5",
   "metadata": {},
   "outputs": [
    {
     "name": "stdout",
     "output_type": "stream",
     "text": [
      "    symbol side      price     amount                        timestamp\n",
      "0  DOT-USD  buy   8.278548  39.607455 2024-12-16 11:53:39.820716+00:00\n",
      "1  DOT-USD  buy   8.278548  39.607455 2024-12-16 11:53:40.146361+00:00\n",
      "2  DOT-USD  buy   8.278548  39.607455 2024-12-16 11:53:40.184761+00:00\n",
      "3  LTC-USD  buy  80.105556   5.080278 2024-12-16 11:53:40.186929+00:00\n",
      "4  LTC-USD  buy  80.105556   5.080278 2024-12-16 11:53:40.187348+00:00\n"
     ]
    }
   ],
   "source": [
    "\n",
    "import pandas as pd\n",
    "import glob\n",
    "import os\n",
    "\n",
    "# Define the base directory\n",
    "base_dir = \"/db_root/db/trades~18/2024-12-16.4939\"\n",
    "\n",
    "# Use glob to list all Parquet files, excluding certain directories\n",
    "parquet_files = [file for file in glob.glob(os.path.join(base_dir, '**/*.parquet'), recursive=True)]\n",
    "\n",
    "# Read each Parquet file into a DataFrame and concatenate them\n",
    "df = pd.concat((pd.read_parquet(file) for file in parquet_files), ignore_index=True)\n",
    "\n",
    "# Display the first few rows to verify it's loaded correctly\n",
    "print(df.head())"
   ]
  }
 ],
 "metadata": {
  "kernelspec": {
   "display_name": "Python 3 (ipykernel)",
   "language": "python",
   "name": "python3"
  },
  "language_info": {
   "codemirror_mode": {
    "name": "ipython",
    "version": 3
   },
   "file_extension": ".py",
   "mimetype": "text/x-python",
   "name": "python",
   "nbconvert_exporter": "python",
   "pygments_lexer": "ipython3",
   "version": "3.11.6"
  }
 },
 "nbformat": 4,
 "nbformat_minor": 5
}
