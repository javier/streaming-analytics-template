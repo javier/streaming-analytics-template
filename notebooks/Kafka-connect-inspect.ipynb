{
 "cells": [
  {
   "cell_type": "code",
   "execution_count": 21,
   "id": "862724e0-fd73-48ec-b744-c184cedc3f1e",
   "metadata": {},
   "outputs": [
    {
     "name": "stdout",
     "output_type": "stream",
     "text": [
      "[\n",
      "   {\n",
      "      \"class\" : \"io.questdb.kafka.QuestDBSinkConnector\",\n",
      "      \"type\" : \"sink\",\n",
      "      \"version\" : \"0.9\"\n",
      "   },\n",
      "   {\n",
      "      \"class\" : \"org.apache.kafka.connect.mirror.MirrorCheckpointConnector\",\n",
      "      \"type\" : \"source\",\n",
      "      \"version\" : \"7.5.3-ccs\"\n",
      "   },\n",
      "   {\n",
      "      \"class\" : \"org.apache.kafka.connect.mirror.MirrorHeartbeatConnector\",\n",
      "      \"type\" : \"source\",\n",
      "      \"version\" : \"7.5.3-ccs\"\n",
      "   },\n",
      "   {\n",
      "      \"class\" : \"org.apache.kafka.connect.mirror.MirrorSourceConnector\",\n",
      "      \"type\" : \"source\",\n",
      "      \"version\" : \"7.5.3-ccs\"\n",
      "   }\n",
      "]\n"
     ]
    }
   ],
   "source": [
    "!curl --silent http://kafka-connect:8083/connector-plugins | json_pp"
   ]
  },
  {
   "cell_type": "code",
   "execution_count": 16,
   "id": "8e94f279-ed8c-476e-8649-9612b8d604e5",
   "metadata": {},
   "outputs": [
    {
     "name": "stdout",
     "output_type": "stream",
     "text": [
      "[\n",
      "   \"questdb-iot\",\n",
      "   \"questdb-github\"\n",
      "]\n"
     ]
    }
   ],
   "source": [
    "!curl --silent http://kafka-connect:8083/connectors | json_pp"
   ]
  },
  {
   "cell_type": "code",
   "execution_count": 18,
   "id": "af3b8814-9acf-45e5-9862-a69108f8ec7c",
   "metadata": {},
   "outputs": [
    {
     "name": "stdout",
     "output_type": "stream",
     "text": [
      "{\n",
      "   \"config\" : {\n",
      "      \"connector.class\" : \"io.questdb.kafka.QuestDBSinkConnector\",\n",
      "      \"host\" : \"questdb:9009\",\n",
      "      \"include.key\" : \"false\",\n",
      "      \"key.converter\" : \"org.apache.kafka.connect.storage.StringConverter\",\n",
      "      \"name\" : \"questdb-github\",\n",
      "      \"symbols\" : \"type,repo\",\n",
      "      \"table\" : \"github_events\",\n",
      "      \"timestamp.field.name\" : \"created_at\",\n",
      "      \"topics\" : \"github_events\",\n",
      "      \"value.converter\" : \"org.apache.kafka.connect.json.JsonConverter\",\n",
      "      \"value.converter.schemas.enable\" : \"false\"\n",
      "   },\n",
      "   \"name\" : \"questdb-github\",\n",
      "   \"tasks\" : [\n",
      "      {\n",
      "         \"connector\" : \"questdb-github\",\n",
      "         \"task\" : 0\n",
      "      }\n",
      "   ],\n",
      "   \"type\" : \"sink\"\n",
      "}\n"
     ]
    }
   ],
   "source": [
    "!curl --silent http://kafka-connect:8083/connectors/questdb-github | json_pp"
   ]
  },
  {
   "cell_type": "code",
   "execution_count": 19,
   "id": "70c94575-d9fa-45da-9ae8-7eca2e24e30d",
   "metadata": {},
   "outputs": [
    {
     "name": "stdout",
     "output_type": "stream",
     "text": [
      "{\n",
      "   \"config\" : {\n",
      "      \"connector.class\" : \"io.questdb.kafka.QuestDBSinkConnector\",\n",
      "      \"host\" : \"questdb:9009\",\n",
      "      \"include.key\" : \"false\",\n",
      "      \"key.converter\" : \"org.apache.kafka.connect.storage.StringConverter\",\n",
      "      \"name\" : \"questdb-iot\",\n",
      "      \"symbols\" : \"device_type\",\n",
      "      \"table\" : \"iot_data\",\n",
      "      \"topics\" : \"iot_data\",\n",
      "      \"value.converter\" : \"org.apache.kafka.connect.json.JsonConverter\",\n",
      "      \"value.converter.schemas.enable\" : \"false\"\n",
      "   },\n",
      "   \"name\" : \"questdb-iot\",\n",
      "   \"tasks\" : [\n",
      "      {\n",
      "         \"connector\" : \"questdb-iot\",\n",
      "         \"task\" : 0\n",
      "      }\n",
      "   ],\n",
      "   \"type\" : \"sink\"\n",
      "}\n"
     ]
    }
   ],
   "source": [
    "!curl --silent http://kafka-connect:8083/connectors/questdb-iot | json_pp\n"
   ]
  }
 ],
 "metadata": {
  "kernelspec": {
   "display_name": "Python 3 (ipykernel)",
   "language": "python",
   "name": "python3"
  },
  "language_info": {
   "codemirror_mode": {
    "name": "ipython",
    "version": 3
   },
   "file_extension": ".py",
   "mimetype": "text/x-python",
   "name": "python",
   "nbconvert_exporter": "python",
   "pygments_lexer": "ipython3",
   "version": "3.11.6"
  }
 },
 "nbformat": 4,
 "nbformat_minor": 5
}
