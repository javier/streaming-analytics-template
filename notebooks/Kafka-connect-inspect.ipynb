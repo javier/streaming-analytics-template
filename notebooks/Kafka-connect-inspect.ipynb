{
 "cells": [
  {
   "cell_type": "code",
   "execution_count": 1,
   "id": "862724e0-fd73-48ec-b744-c184cedc3f1e",
   "metadata": {},
   "outputs": [
    {
     "name": "stdout",
     "output_type": "stream",
     "text": [
      "malformed JSON string, neither array, object, number, string or atom, at character offset 0 (before \"(end of string)\") at /usr/bin/json_pp line 59.\n"
     ]
    }
   ],
   "source": [
    "!curl --silent http://kafka-connect:8083/connector-plugins | json_pp"
   ]
  },
  {
   "cell_type": "code",
   "execution_count": 2,
   "id": "8e94f279-ed8c-476e-8649-9612b8d604e5",
   "metadata": {},
   "outputs": [
    {
     "name": "stdout",
     "output_type": "stream",
     "text": [
      "[\n",
      "   \"questdb-github\",\n",
      "   \"questdb-trades\",\n",
      "   \"questdb-smart-meters\",\n",
      "   \"questdb-iot\"\n",
      "]\n"
     ]
    }
   ],
   "source": [
    "!curl --silent http://kafka-connect:8083/connectors | json_pp"
   ]
  },
  {
   "cell_type": "code",
   "execution_count": 3,
   "id": "af3b8814-9acf-45e5-9862-a69108f8ec7c",
   "metadata": {},
   "outputs": [
    {
     "name": "stdout",
     "output_type": "stream",
     "text": [
      "{\n",
      "   \"config\" : {\n",
      "      \"client.conf.string\" : \"http::addr=questdb:9000;\",\n",
      "      \"connector.class\" : \"io.questdb.kafka.QuestDBSinkConnector\",\n",
      "      \"include.key\" : \"false\",\n",
      "      \"key.converter\" : \"org.apache.kafka.connect.storage.StringConverter\",\n",
      "      \"name\" : \"questdb-github\",\n",
      "      \"symbols\" : \"type,repo\",\n",
      "      \"table\" : \"github_events\",\n",
      "      \"timestamp.field.name\" : \"created_at\",\n",
      "      \"topics\" : \"github_events\",\n",
      "      \"value.converter\" : \"org.apache.kafka.connect.json.JsonConverter\",\n",
      "      \"value.converter.schemas.enable\" : \"false\"\n",
      "   },\n",
      "   \"name\" : \"questdb-github\",\n",
      "   \"tasks\" : [\n",
      "      {\n",
      "         \"connector\" : \"questdb-github\",\n",
      "         \"task\" : 0\n",
      "      }\n",
      "   ],\n",
      "   \"type\" : \"sink\"\n",
      "}\n"
     ]
    }
   ],
   "source": [
    "!curl --silent http://kafka-connect:8083/connectors/questdb-github | json_pp"
   ]
  },
  {
   "cell_type": "code",
   "execution_count": 6,
   "id": "70c94575-d9fa-45da-9ae8-7eca2e24e30d",
   "metadata": {},
   "outputs": [
    {
     "name": "stdout",
     "output_type": "stream",
     "text": [
      "{\n",
      "   \"config\" : {\n",
      "      \"client.conf.string\" : \"http::addr=questdb:9000;\",\n",
      "      \"connector.class\" : \"io.questdb.kafka.QuestDBSinkConnector\",\n",
      "      \"include.key\" : \"false\",\n",
      "      \"key.converter\" : \"org.apache.kafka.connect.storage.StringConverter\",\n",
      "      \"name\" : \"questdb-iot\",\n",
      "      \"symbols\" : \"device_type\",\n",
      "      \"table\" : \"iot_data\",\n",
      "      \"topics\" : \"iot_data\",\n",
      "      \"value.converter\" : \"org.apache.kafka.connect.json.JsonConverter\",\n",
      "      \"value.converter.schemas.enable\" : \"false\"\n",
      "   },\n",
      "   \"name\" : \"questdb-iot\",\n",
      "   \"tasks\" : [\n",
      "      {\n",
      "         \"connector\" : \"questdb-iot\",\n",
      "         \"task\" : 0\n",
      "      }\n",
      "   ],\n",
      "   \"type\" : \"sink\"\n",
      "}\n"
     ]
    }
   ],
   "source": [
    "!curl --silent http://kafka-connect:8083/connectors/questdb-iot | json_pp"
   ]
  },
  {
   "cell_type": "code",
   "execution_count": 1,
   "id": "d86701d9-1a92-480f-9e2a-f60691eca21e",
   "metadata": {},
   "outputs": [
    {
     "name": "stdout",
     "output_type": "stream",
     "text": [
      "{\n",
      "   \"config\" : {\n",
      "      \"client.conf.string\" : \"http::addr=host.docker.internal:9000;\",\n",
      "      \"connector.class\" : \"io.questdb.kafka.QuestDBSinkConnector\",\n",
      "      \"include.key\" : \"false\",\n",
      "      \"key.converter\" : \"io.confluent.connect.avro.AvroConverter\",\n",
      "      \"key.converter.schema.registry.url\" : \"http://schema_registry:8081\",\n",
      "      \"name\" : \"questdb-trades\",\n",
      "      \"symbols\" : \"symbol, side\",\n",
      "      \"table\" : \"trades\",\n",
      "      \"tasks.max\" : \"2\",\n",
      "      \"timestamp.field.name\" : \"timestamp\",\n",
      "      \"topics\" : \"trades\",\n",
      "      \"value.converter\" : \"io.confluent.connect.avro.AvroConverter\",\n",
      "      \"value.converter.schema.registry.url\" : \"http://schema_registry:8081\",\n",
      "      \"value.converter.schemas.enable\" : \"true\"\n",
      "   },\n",
      "   \"name\" : \"questdb-trades\",\n",
      "   \"tasks\" : [\n",
      "      {\n",
      "         \"connector\" : \"questdb-trades\",\n",
      "         \"task\" : 0\n",
      "      },\n",
      "      {\n",
      "         \"connector\" : \"questdb-trades\",\n",
      "         \"task\" : 1\n",
      "      }\n",
      "   ],\n",
      "   \"type\" : \"sink\"\n",
      "}\n"
     ]
    }
   ],
   "source": [
    "!curl --silent http://kafka-connect:8083/connectors/questdb-trades | json_pp"
   ]
  },
  {
   "cell_type": "code",
   "execution_count": 31,
   "id": "98a7cb25-28bd-4b03-aef6-2cb1a97b8d0a",
   "metadata": {},
   "outputs": [
    {
     "name": "stdout",
     "output_type": "stream",
     "text": [
      "{\"name\":\"questdb-trades\",\"connector\":{\"state\":\"RUNNING\",\"worker_id\":\"kafka-connect:8083\"},\"tasks\":[{\"id\":0,\"state\":\"RUNNING\",\"worker_id\":\"kafka-connect:8083\"},{\"id\":1,\"state\":\"RUNNING\",\"worker_id\":\"kafka-connect:8083\"},{\"id\":2,\"state\":\"RUNNING\",\"worker_id\":\"kafka-connect:8083\"},{\"id\":3,\"state\":\"RUNNING\",\"worker_id\":\"kafka-connect:8083\"},{\"id\":4,\"state\":\"RUNNING\",\"worker_id\":\"kafka-connect:8083\"}],\"type\":\"sink\"}"
     ]
    }
   ],
   "source": [
    "!curl --silent http://kafka-connect:8083/connectors/questdb-trades/status "
   ]
  },
  {
   "cell_type": "code",
   "execution_count": 30,
   "id": "a705b9be-b758-4231-accc-92e8ea795879",
   "metadata": {},
   "outputs": [],
   "source": [
    "!curl --silent -X POST http://kafka-connect:8083/connectors/questdb-trades/tasks/0/restart "
   ]
  },
  {
   "cell_type": "code",
   "execution_count": 7,
   "id": "ef4f1d68-b992-4731-a447-c08cce40c969",
   "metadata": {},
   "outputs": [
    {
     "name": "stdout",
     "output_type": "stream",
     "text": [
      "{\n",
      "   \"config\" : {\n",
      "      \"client.conf.string\" : \"http::addr=questdb:9000;\",\n",
      "      \"connector.class\" : \"io.questdb.kafka.QuestDBSinkConnector\",\n",
      "      \"include.key\" : \"false\",\n",
      "      \"key.converter\" : \"io.confluent.connect.avro.AvroConverter\",\n",
      "      \"key.converter.schema.registry.url\" : \"http://schema_registry:8081\",\n",
      "      \"name\" : \"questdb-smart-meters\",\n",
      "      \"symbols\" : \"device_id, mark_model, status\",\n",
      "      \"table\" : \"smart_meters\",\n",
      "      \"timestamp.field.name\" : \"timestamp\",\n",
      "      \"topics\" : \"smart-meters\",\n",
      "      \"value.converter\" : \"io.confluent.connect.avro.AvroConverter\",\n",
      "      \"value.converter.schema.registry.url\" : \"http://schema_registry:8081\",\n",
      "      \"value.converter.schemas.enable\" : \"true\"\n",
      "   },\n",
      "   \"name\" : \"questdb-smart-meters\",\n",
      "   \"tasks\" : [\n",
      "      {\n",
      "         \"connector\" : \"questdb-smart-meters\",\n",
      "         \"task\" : 0\n",
      "      }\n",
      "   ],\n",
      "   \"type\" : \"sink\"\n",
      "}\n"
     ]
    }
   ],
   "source": [
    "!curl --silent http://kafka-connect:8083/connectors/questdb-smart-meters | json_pp"
   ]
  }
 ],
 "metadata": {
  "kernelspec": {
   "display_name": "Python 3 (ipykernel)",
   "language": "python",
   "name": "python3"
  },
  "language_info": {
   "codemirror_mode": {
    "name": "ipython",
    "version": 3
   },
   "file_extension": ".py",
   "mimetype": "text/x-python",
   "name": "python",
   "nbconvert_exporter": "python",
   "pygments_lexer": "ipython3",
   "version": "3.11.6"
  }
 },
 "nbformat": 4,
 "nbformat_minor": 5
}
