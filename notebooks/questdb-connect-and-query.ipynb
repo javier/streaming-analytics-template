{
 "cells": [
  {
   "cell_type": "markdown",
   "id": "8c0868bc-01bb-4296-8206-bad1c9b9da83",
   "metadata": {},
   "source": [
    "# QuestDB Connect and Query\n",
    "\n",
    "## Querying QuestDB using the PostgreSQL wire-protocol\n",
    "\n",
    "QuestDB is compatible with the Postgresql wire-protocol, which means you can use any postgresql compatible library to connect, send queries, and get results back. Please note that QuestDB is not built on top of Postgresql and it doesn't support its whole function set. \n",
    "\n",
    "Moreover, QuestDB provides [its own extensions](https://questdb.io/docs/concept/sql-extensions/) to work with time-series data. However, at the protocol level the SQL is not validated, so as long as your Postgresql client can connect, send queries, and read results back, you can use it to query QuestDB."
   ]
  },
  {
   "cell_type": "code",
   "execution_count": 1,
   "id": "0b9835b8-2b20-4b1c-b893-5ef647db99e7",
   "metadata": {},
   "outputs": [
    {
     "name": "stdout",
     "output_type": "stream",
     "text": [
      "('AadityaJain17/jobgenie', 'CreateEvent', 'AadityaJain17', datetime.datetime(2024, 9, 24, 17, 25, 58, 179036))\n",
      "('trafver54336457645/trafver54336457645', 'PushEvent', 'github-actions[bot]', datetime.datetime(2024, 9, 24, 17, 25, 58, 181431))\n",
      "('goofysun/Get-IP-SELF', 'PushEvent', 'github-actions[bot]', datetime.datetime(2024, 9, 24, 17, 25, 58, 181474))\n",
      "('kakao-travel-mandi/mandi-backend', 'PullRequestEvent', 'LEE-sh1673', datetime.datetime(2024, 9, 24, 17, 25, 58, 181521))\n",
      "('integration-os/integrationos', 'PushEvent', 'paulkr', datetime.datetime(2024, 9, 24, 17, 25, 58, 181549))\n"
     ]
    }
   ],
   "source": [
    "import psycopg as pg\n",
    "import time\n",
    "import os\n",
    "\n",
    "# Fetch environment variables with defaults\n",
    "host = os.getenv('QDB_CLIENT_HOST', 'questdb')\n",
    "port = os.getenv('QDB_CLIENT_PORT', '8812')\n",
    "user = os.getenv('QDB_CLIENT_USER', 'admin')\n",
    "password = os.getenv('QDB_CLIENT_PASSWORD', 'quest')\n",
    "\n",
    "# Create the connection string using the environment variables or defaults\n",
    "conn_str = f'user={user} password={password} host={host} port={port} dbname=qdb'\n",
    "conn_str = 'user=admin password=quest host=questdb port=8812 dbname=qdb'\n",
    "with pg.connect(conn_str, autocommit=True) as connection:\n",
    "\n",
    "    # Open a cursor to perform database operations\n",
    "\n",
    "    with connection.cursor() as cur:\n",
    "\n",
    "        #Query the database and obtain data as Python objects.\n",
    "\n",
    "        cur.execute('SELECT * FROM github_events LIMIT 5;')\n",
    "        records = cur.fetchall()\n",
    "        for row in records:\n",
    "            print(row)\n",
    "\n",
    "# the connection is now closed\n"
   ]
  },
  {
   "cell_type": "markdown",
   "id": "5c3b9277-131e-4c46-978f-9dfa6b7173fc",
   "metadata": {},
   "source": [
    "## Querying QuestDB using the REST API\n",
    "\n",
    "It is possible to use QuestDB's API from any HTTP client. As an example we will use the Python `requests` library to issue the same query we executed above"
   ]
  },
  {
   "cell_type": "code",
   "execution_count": 5,
   "id": "d5dafaac-9a8e-4c55-a7cb-3cb1453f9e51",
   "metadata": {},
   "outputs": [
    {
     "name": "stdout",
     "output_type": "stream",
     "text": [
      "['cs-jsi/chisel4ml', 'PushEvent', 'jurevreca12', '2024-02-02T08:05:12.023344Z']\n",
      "['Tarzan22/BES-Backend', 'CreateEvent', 'Tarzan22', '2024-02-02T08:05:12.026647Z']\n",
      "['haoqing0110/addon-framework', 'CreateEvent', 'haoqing0110', '2024-02-02T08:05:12.026703Z']\n",
      "['negoxa2020/web_individ', 'PushEvent', 'negoxa2020', '2024-02-02T08:05:12.026730Z']\n",
      "['estevenson9/sketch', 'PushEvent', 'estevenson9', '2024-02-02T08:05:12.026751Z']\n"
     ]
    }
   ],
   "source": [
    "import requests\n",
    "\n",
    "host = 'http://questdb:9000'\n",
    "\n",
    "sql_query = 'SELECT * FROM github_events LIMIT 5;'\n",
    "\n",
    "try:\n",
    "    response = requests.get(\n",
    "        host + '/exec',\n",
    "        params={'query': sql_query}).json()\n",
    "    for row in response['dataset']:\n",
    "        print(row)\n",
    "except requests.exceptions.RequestException as e:\n",
    "    print(f'Error: {e}')"
   ]
  },
  {
   "cell_type": "markdown",
   "id": "2b163b60-312d-4e74-98df-bdb1904ba880",
   "metadata": {},
   "source": [
    "## Querying QuestDB using the REST API from the command line\n",
    "\n",
    "You can of course use any command line tools, like `curl` to execute queries on questdb. This also allows you to run DDL statements and execute some admin tasks\n"
   ]
  },
  {
   "cell_type": "code",
   "execution_count": 8,
   "id": "e021d9b5-f0a1-4ada-a977-5f8fa13a8e43",
   "metadata": {},
   "outputs": [
    {
     "name": "stdout",
     "output_type": "stream",
     "text": [
      "{\n",
      "   \"columns\" : [\n",
      "      {\n",
      "         \"name\" : \"repo\",\n",
      "         \"type\" : \"SYMBOL\"\n",
      "      },\n",
      "      {\n",
      "         \"name\" : \"type\",\n",
      "         \"type\" : \"SYMBOL\"\n",
      "      },\n",
      "      {\n",
      "         \"name\" : \"actor\",\n",
      "         \"type\" : \"STRING\"\n",
      "      },\n",
      "      {\n",
      "         \"name\" : \"timestamp\",\n",
      "         \"type\" : \"TIMESTAMP\"\n",
      "      }\n",
      "   ],\n",
      "   \"count\" : 5,\n",
      "   \"dataset\" : [\n",
      "      [\n",
      "         \"cs-jsi/chisel4ml\",\n",
      "         \"PushEvent\",\n",
      "         \"jurevreca12\",\n",
      "         \"2024-02-02T08:05:12.023344Z\"\n",
      "      ],\n",
      "      [\n",
      "         \"Tarzan22/BES-Backend\",\n",
      "         \"CreateEvent\",\n",
      "         \"Tarzan22\",\n",
      "         \"2024-02-02T08:05:12.026647Z\"\n",
      "      ],\n",
      "      [\n",
      "         \"haoqing0110/addon-framework\",\n",
      "         \"CreateEvent\",\n",
      "         \"haoqing0110\",\n",
      "         \"2024-02-02T08:05:12.026703Z\"\n",
      "      ],\n",
      "      [\n",
      "         \"negoxa2020/web_individ\",\n",
      "         \"PushEvent\",\n",
      "         \"negoxa2020\",\n",
      "         \"2024-02-02T08:05:12.026730Z\"\n",
      "      ],\n",
      "      [\n",
      "         \"estevenson9/sketch\",\n",
      "         \"PushEvent\",\n",
      "         \"estevenson9\",\n",
      "         \"2024-02-02T08:05:12.026751Z\"\n",
      "      ]\n",
      "   ],\n",
      "   \"query\" : \"SELECT * FROM github_events LIMIT 5;\",\n",
      "   \"timestamp\" : 3\n",
      "}\n"
     ]
    }
   ],
   "source": [
    "!curl -G --silent --data-urlencode \"query=SELECT * FROM github_events LIMIT 5;\"  http://questdb:9000/exec | json_pp"
   ]
  }
 ],
 "metadata": {
  "kernelspec": {
   "display_name": "Python 3 (ipykernel)",
   "language": "python",
   "name": "python3"
  },
  "language_info": {
   "codemirror_mode": {
    "name": "ipython",
    "version": 3
   },
   "file_extension": ".py",
   "mimetype": "text/x-python",
   "name": "python",
   "nbconvert_exporter": "python",
   "pygments_lexer": "ipython3",
   "version": "3.11.6"
  }
 },
 "nbformat": 4,
 "nbformat_minor": 5
}
