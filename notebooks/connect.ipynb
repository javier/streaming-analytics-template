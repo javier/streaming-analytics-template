{
 "cells": [
  {
   "cell_type": "code",
   "execution_count": 2,
   "id": "0b9835b8-2b20-4b1c-b893-5ef647db99e7",
   "metadata": {},
   "outputs": [
    {
     "name": "stdout",
     "output_type": "stream",
     "text": [
      "('gradle/gradle', 'IssueCommentEvent', 'wolfs', datetime.datetime(2024, 1, 30, 11, 12, 8, 463130))\n",
      "('SonarSource/rspec', 'IssueCommentEvent', 'sonarqube-next[bot]', datetime.datetime(2024, 1, 30, 11, 12, 8, 463700))\n",
      "('thfrknn/Riders', 'PublicEvent', 'thfrknn', datetime.datetime(2024, 1, 30, 11, 12, 8, 463892))\n",
      "('abhik2207/node-deploy', 'PushEvent', 'abhik2207', datetime.datetime(2024, 1, 30, 11, 12, 8, 463926))\n",
      "('Florex001/patak-parlat-be', 'PushEvent', 'Florex001', datetime.datetime(2024, 1, 30, 11, 12, 8, 463978))\n",
      "('ACM-JUIT/Qriosity-24', 'PushEvent', 'Navoren', datetime.datetime(2024, 1, 30, 11, 12, 8, 464005))\n",
      "('pro3088/Synergy_cooperative_frontend', 'PushEvent', 'pro3088', datetime.datetime(2024, 1, 30, 11, 12, 8, 464029))\n",
      "('linux-mailinglist-archives/linux-aspeed.lists.ozlabs.org.0', 'PushEvent', 'lfd-lists', datetime.datetime(2024, 1, 30, 11, 12, 8, 464071))\n",
      "('TinnyTin/eng-intern-assessment-react', 'PushEvent', 'TinnyTin', datetime.datetime(2024, 1, 30, 11, 12, 8, 464142))\n",
      "('teovssorin/project2', 'PushEvent', 'teovssorin', datetime.datetime(2024, 1, 30, 11, 12, 8, 464183))\n",
      "('GaelVM/DataGo', 'PushEvent', 'github-actions[bot]', datetime.datetime(2024, 1, 30, 11, 12, 8, 464241))\n",
      "('zirklbch/zirklbch.github.io', 'PushEvent', 'zirklbch', datetime.datetime(2024, 1, 30, 11, 12, 8, 464300))\n",
      "('yos124to2pholskia/repo3', 'PushEvent', 'ttgds3asu', datetime.datetime(2024, 1, 30, 11, 12, 8, 464356))\n",
      "('Angoliuk/nx-starter', 'PushEvent', 'Angoliuk', datetime.datetime(2024, 1, 30, 11, 12, 8, 464413))\n",
      "('learn-co-curriculum/react-hooks-lists-and-keys-lab', 'ForkEvent', 'bryokn', datetime.datetime(2024, 1, 30, 11, 12, 8, 464457))\n",
      "('Mduduzi-Jele/school-site-api', 'PushEvent', 'ThabangNWU', datetime.datetime(2024, 1, 30, 11, 12, 8, 464535))\n",
      "('gazab/gazab', 'PushEvent', 'github-actions[bot]', datetime.datetime(2024, 1, 30, 11, 12, 8, 464619))\n",
      "('hotspotlab/hourly', 'PushEvent', 'hotspotlab', datetime.datetime(2024, 1, 30, 11, 12, 8, 464673))\n",
      "('ArseniyDmytrovich13/Generations113', 'PushEvent', 'ArseniyDmytrovich13', datetime.datetime(2024, 1, 30, 11, 12, 8, 464810))\n",
      "('yos124to2pholskia/repo14', 'PushEvent', 'ttgds3asu', datetime.datetime(2024, 1, 30, 11, 12, 8, 472004))\n",
      "('SOM-Research/LangBiTe', 'PushEvent', 'tirafrutas', datetime.datetime(2024, 1, 30, 11, 12, 8, 479364))\n",
      "('yos124to2pholskia/repo16', 'PushEvent', 'ttgds3asu', datetime.datetime(2024, 1, 30, 11, 12, 8, 486344))\n",
      "('learn-co-curriculum/react-hooks-import-export-lab', 'ForkEvent', 'Monica-mwangi', datetime.datetime(2024, 1, 30, 11, 12, 8, 493978))\n",
      "('postalserver/postal', 'PushEvent', 'github-actions[bot]', datetime.datetime(2024, 1, 30, 11, 12, 8, 500749))\n",
      "('yos124to2pholskia/repo6', 'PushEvent', 'ttgds3asu', datetime.datetime(2024, 1, 30, 11, 12, 8, 508327))\n",
      "('esterrez/node-upskill', 'PushEvent', 'esterrez', datetime.datetime(2024, 1, 30, 11, 12, 8, 516447))\n",
      "('Gogah1987/spotfy-imersao-alura', 'PushEvent', 'Gogah1987', datetime.datetime(2024, 1, 30, 11, 12, 8, 523667))\n",
      "('yos124to2pholskia/repo15', 'PushEvent', 'ttgds3asu', datetime.datetime(2024, 1, 30, 11, 12, 8, 530295))\n",
      "('yos124to2pholskia/repo7', 'PushEvent', 'ttgds3asu', datetime.datetime(2024, 1, 30, 11, 12, 8, 540077))\n",
      "('teovssorin/project3', 'PushEvent', 'teovssorin', datetime.datetime(2024, 1, 30, 11, 12, 8, 547576))\n"
     ]
    }
   ],
   "source": [
    "import psycopg as pg\n",
    "import time\n",
    "\n",
    "# Connect to an existing QuestDB instance\n",
    "\n",
    "conn_str = 'user=admin password=quest host=host.docker.internal port=18812 dbname=qdb'\n",
    "with pg.connect(conn_str, autocommit=True) as connection:\n",
    "\n",
    "    # Open a cursor to perform database operations\n",
    "\n",
    "    with connection.cursor() as cur:\n",
    "\n",
    "        #Query the database and obtain data as Python objects.\n",
    "\n",
    "        cur.execute('SELECT * FROM github_events;')\n",
    "        records = cur.fetchall()\n",
    "        for row in records:\n",
    "            print(row)\n",
    "\n",
    "# the connection is now closed\n"
   ]
  },
  {
   "cell_type": "code",
   "execution_count": null,
   "id": "619fe457-b80c-40c2-80f9-54eceefa4d82",
   "metadata": {},
   "outputs": [],
   "source": []
  }
 ],
 "metadata": {
  "kernelspec": {
   "display_name": "Python 3 (ipykernel)",
   "language": "python",
   "name": "python3"
  },
  "language_info": {
   "codemirror_mode": {
    "name": "ipython",
    "version": 3
   },
   "file_extension": ".py",
   "mimetype": "text/x-python",
   "name": "python",
   "nbconvert_exporter": "python",
   "pygments_lexer": "ipython3",
   "version": "3.11.6"
  }
 },
 "nbformat": 4,
 "nbformat_minor": 5
}
