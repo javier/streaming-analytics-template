{
 "cells": [
  {
   "cell_type": "markdown",
   "id": "6316331a-51ba-4af3-b3cf-73fb2601aca8",
   "metadata": {},
   "source": [
    "# Data exploration of the Factory Plant Sensors Dataset with Pandas\n",
    "\n",
    "A key part of Data Science is interactive exploration of your dataset. There are arguably many tools to perform data science, but [Python Pandas](https://pandas.pydata.org/) is one of the most widely used. "
   ]
  },
  {
   "cell_type": "markdown",
   "id": "991e8d94-ae60-444c-a2c3-0f93f337fda1",
   "metadata": {},
   "source": [
    "## Data exploration using Pandas"
   ]
  },
  {
   "cell_type": "code",
   "execution_count": 1,
   "id": "716ec5a0-3476-4988-a27c-4970bc211b3f",
   "metadata": {},
   "outputs": [],
   "source": [
    "#This line is needed to display the charts later in the notebook\n",
    "%matplotlib widget \n",
    "#ignore deprecation warnings in this demo\n",
    "import warnings\n",
    "warnings.simplefilter(\"ignore\", category=DeprecationWarning)"
   ]
  },
  {
   "cell_type": "code",
   "execution_count": 26,
   "id": "fa7c0d2b-d3f7-4379-b29c-e243b5cf8c3b",
   "metadata": {},
   "outputs": [
    {
     "data": {
      "text/html": [
       "<div>\n",
       "<style scoped>\n",
       "    .dataframe tbody tr th:only-of-type {\n",
       "        vertical-align: middle;\n",
       "    }\n",
       "\n",
       "    .dataframe tbody tr th {\n",
       "        vertical-align: top;\n",
       "    }\n",
       "\n",
       "    .dataframe thead th {\n",
       "        text-align: right;\n",
       "    }\n",
       "</style>\n",
       "<table border=\"1\" class=\"dataframe\">\n",
       "  <thead>\n",
       "    <tr style=\"text-align: right;\">\n",
       "      <th></th>\n",
       "      <th>timestamp</th>\n",
       "      <th>system</th>\n",
       "      <th>address</th>\n",
       "      <th>value</th>\n",
       "      <th>text</th>\n",
       "      <th>status</th>\n",
       "    </tr>\n",
       "  </thead>\n",
       "  <tbody>\n",
       "    <tr>\n",
       "      <th>0</th>\n",
       "      <td>2024-11-06 05:37:03</td>\n",
       "      <td>system012</td>\n",
       "      <td>AAA1626</td>\n",
       "      <td>NaN</td>\n",
       "      <td>message073</td>\n",
       "      <td>active</td>\n",
       "    </tr>\n",
       "    <tr>\n",
       "      <th>1</th>\n",
       "      <td>2024-11-06 05:37:03</td>\n",
       "      <td>system012</td>\n",
       "      <td>AAA0AEE</td>\n",
       "      <td>52.944184</td>\n",
       "      <td>None</td>\n",
       "      <td>active</td>\n",
       "    </tr>\n",
       "    <tr>\n",
       "      <th>2</th>\n",
       "      <td>2024-11-06 05:37:03</td>\n",
       "      <td>system012</td>\n",
       "      <td>AAA03D2</td>\n",
       "      <td>37.535532</td>\n",
       "      <td>None</td>\n",
       "      <td>active</td>\n",
       "    </tr>\n",
       "    <tr>\n",
       "      <th>3</th>\n",
       "      <td>2024-11-06 05:37:03</td>\n",
       "      <td>system012</td>\n",
       "      <td>AAA1100</td>\n",
       "      <td>NaN</td>\n",
       "      <td>message036</td>\n",
       "      <td>active</td>\n",
       "    </tr>\n",
       "    <tr>\n",
       "      <th>4</th>\n",
       "      <td>2024-11-06 05:37:03</td>\n",
       "      <td>system012</td>\n",
       "      <td>AAA109C</td>\n",
       "      <td>-0.739677</td>\n",
       "      <td>None</td>\n",
       "      <td>active</td>\n",
       "    </tr>\n",
       "  </tbody>\n",
       "</table>\n",
       "</div>"
      ],
      "text/plain": [
       "            timestamp     system  address      value        text  status\n",
       "0 2024-11-06 05:37:03  system012  AAA1626        NaN  message073  active\n",
       "1 2024-11-06 05:37:03  system012  AAA0AEE  52.944184        None  active\n",
       "2 2024-11-06 05:37:03  system012  AAA03D2  37.535532        None  active\n",
       "3 2024-11-06 05:37:03  system012  AAA1100        NaN  message036  active\n",
       "4 2024-11-06 05:37:03  system012  AAA109C  -0.739677        None  active"
      ]
     },
     "execution_count": 26,
     "metadata": {},
     "output_type": "execute_result"
    }
   ],
   "source": [
    "from sqlalchemy import create_engine\n",
    "import pandas as pd\n",
    "import matplotlib.pyplot as plt\n",
    "\n",
    "import os\n",
    "\n",
    "# Fetch environment variables with defaults\n",
    "host = os.getenv('QDB_CLIENT_HOST', 'questdb')\n",
    "port = os.getenv('QDB_CLIENT_PORT', '8812')\n",
    "user = os.getenv('QDB_CLIENT_USER', 'admin')\n",
    "password = os.getenv('QDB_CLIENT_PASSWORD', 'quest')\n",
    "\n",
    "# Create the connection string using the environment variables or defaults\n",
    "conn_str = f'user={user} password={password} host={host} port={port} dbname=qdb'\n",
    "\n",
    "# Database connection details\n",
    "db_config = {\n",
    "    'user': user,\n",
    "    'password': password,\n",
    "    'host': host,\n",
    "    'port': port, \n",
    "    'database': 'qdb'\n",
    "}\n",
    "\n",
    "# Create a database connection\n",
    "engine = create_engine(f'postgresql://{db_config[\"user\"]}:{db_config[\"password\"]}@{db_config[\"host\"]}:{db_config[\"port\"]}/{db_config[\"database\"]}')\n",
    "query = 'SELECT * FROM plant_sensors limit -100000'\n",
    "\n",
    "\n",
    "df = pd.read_sql(query, engine)\n",
    "\n",
    "# Display the first few rows of the DataFrame\n",
    "df.head()"
   ]
  },
  {
   "cell_type": "code",
   "execution_count": 27,
   "id": "f2e3163f-75c7-44e9-9778-cc700c20c972",
   "metadata": {},
   "outputs": [
    {
     "name": "stdout",
     "output_type": "stream",
     "text": [
      "<class 'pandas.core.frame.DataFrame'>\n",
      "RangeIndex: 100000 entries, 0 to 99999\n",
      "Data columns (total 6 columns):\n",
      " #   Column     Non-Null Count   Dtype         \n",
      "---  ------     --------------   -----         \n",
      " 0   timestamp  100000 non-null  datetime64[ns]\n",
      " 1   system     100000 non-null  object        \n",
      " 2   address    100000 non-null  object        \n",
      " 3   value      79306 non-null   float64       \n",
      " 4   text       20694 non-null   object        \n",
      " 5   status     100000 non-null  object        \n",
      "dtypes: datetime64[ns](1), float64(1), object(4)\n",
      "memory usage: 4.6+ MB\n"
     ]
    }
   ],
   "source": [
    "# Check the data types and null values\n",
    "df.info()"
   ]
  },
  {
   "cell_type": "code",
   "execution_count": 28,
   "id": "af1f97d7-57d8-4e28-b58e-cac61071672c",
   "metadata": {},
   "outputs": [
    {
     "data": {
      "text/html": [
       "<div>\n",
       "<style scoped>\n",
       "    .dataframe tbody tr th:only-of-type {\n",
       "        vertical-align: middle;\n",
       "    }\n",
       "\n",
       "    .dataframe tbody tr th {\n",
       "        vertical-align: top;\n",
       "    }\n",
       "\n",
       "    .dataframe thead th {\n",
       "        text-align: right;\n",
       "    }\n",
       "</style>\n",
       "<table border=\"1\" class=\"dataframe\">\n",
       "  <thead>\n",
       "    <tr style=\"text-align: right;\">\n",
       "      <th></th>\n",
       "      <th>timestamp</th>\n",
       "      <th>value</th>\n",
       "    </tr>\n",
       "  </thead>\n",
       "  <tbody>\n",
       "    <tr>\n",
       "      <th>count</th>\n",
       "      <td>100000</td>\n",
       "      <td>79306.000000</td>\n",
       "    </tr>\n",
       "    <tr>\n",
       "      <th>mean</th>\n",
       "      <td>2024-11-06 10:56:17.624399872</td>\n",
       "      <td>49.032473</td>\n",
       "    </tr>\n",
       "    <tr>\n",
       "      <th>min</th>\n",
       "      <td>2024-11-06 05:37:03</td>\n",
       "      <td>-165.747781</td>\n",
       "    </tr>\n",
       "    <tr>\n",
       "      <th>25%</th>\n",
       "      <td>2024-11-06 08:19:12</td>\n",
       "      <td>3.531252</td>\n",
       "    </tr>\n",
       "    <tr>\n",
       "      <th>50%</th>\n",
       "      <td>2024-11-06 10:54:18</td>\n",
       "      <td>47.292311</td>\n",
       "    </tr>\n",
       "    <tr>\n",
       "      <th>75%</th>\n",
       "      <td>2024-11-06 13:36:27</td>\n",
       "      <td>95.122258</td>\n",
       "    </tr>\n",
       "    <tr>\n",
       "      <th>max</th>\n",
       "      <td>2024-11-06 16:18:36</td>\n",
       "      <td>290.835226</td>\n",
       "    </tr>\n",
       "    <tr>\n",
       "      <th>std</th>\n",
       "      <td>NaN</td>\n",
       "      <td>70.948386</td>\n",
       "    </tr>\n",
       "  </tbody>\n",
       "</table>\n",
       "</div>"
      ],
      "text/plain": [
       "                           timestamp         value\n",
       "count                         100000  79306.000000\n",
       "mean   2024-11-06 10:56:17.624399872     49.032473\n",
       "min              2024-11-06 05:37:03   -165.747781\n",
       "25%              2024-11-06 08:19:12      3.531252\n",
       "50%              2024-11-06 10:54:18     47.292311\n",
       "75%              2024-11-06 13:36:27     95.122258\n",
       "max              2024-11-06 16:18:36    290.835226\n",
       "std                              NaN     70.948386"
      ]
     },
     "execution_count": 28,
     "metadata": {},
     "output_type": "execute_result"
    }
   ],
   "source": [
    "# Summary statistics of numerical columns\n",
    "df.describe()"
   ]
  },
  {
   "cell_type": "code",
   "execution_count": 23,
   "id": "21800a39-04d1-4ebf-a602-6a732692e5d1",
   "metadata": {},
   "outputs": [
    {
     "data": {
      "text/plain": [
       "system\n",
       "system004    50288\n",
       "system002    50262\n",
       "system010    50259\n",
       "system017    50208\n",
       "system005    50192\n",
       "system012    50137\n",
       "system001    50125\n",
       "system014    50088\n",
       "system013    50012\n",
       "system008    49996\n",
       "system015    49994\n",
       "system009    49962\n",
       "system003    49946\n",
       "system019    49944\n",
       "system007    49906\n",
       "system006    49803\n",
       "system011    49784\n",
       "system016    49784\n",
       "system018    49711\n",
       "system000    49599\n",
       "Name: count, dtype: int64"
      ]
     },
     "execution_count": 23,
     "metadata": {},
     "output_type": "execute_result"
    }
   ],
   "source": [
    "# Count unique values in categorical columns\n",
    "df['system'].value_counts()"
   ]
  },
  {
   "cell_type": "code",
   "execution_count": 24,
   "id": "8ba2145d-f9d3-45dd-9d0c-bfdace5162df",
   "metadata": {},
   "outputs": [
    {
     "data": {
      "application/vnd.jupyter.widget-view+json": {
       "model_id": "840a3a3881bb46a68296546321098e2c",
       "version_major": 2,
       "version_minor": 0
      },
      "image/png": "[encoded data removed]",
      "text/html": [
       "\n",
       "            <div style=\"display: inline-block;\">\n",
       "                <div class=\"jupyter-widgets widget-label\" style=\"text-align: center;\">\n",
       "                    Figure\n",
       "                </div>\n",
       "                <img src='data:image/png;base64,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' width=640.0/>\n",
       "            </div>\n",
       "        "
      ],
      "text/plain": [
       "Canvas(toolbar=Toolbar(toolitems=[('Home', 'Reset original view', 'home', 'home'), ('Back', 'Back to previous …"
      ]
     },
     "metadata": {},
     "output_type": "display_data"
    }
   ],
   "source": [
    "# Plot a bar chart for categorical columns\n",
    "plt.figure()  # Create another new figure object\n",
    "df['system'].value_counts().plot(kind='bar')\n",
    "plt.xlabel('System')\n",
    "plt.ylabel('Count')\n",
    "plt.title('System Distribution')\n",
    "plt.tight_layout()\n",
    "plt.show()  # Display the plot\n"
   ]
  }
 ],
 "metadata": {
  "kernelspec": {
   "display_name": "Python 3 (ipykernel)",
   "language": "python",
   "name": "python3"
  },
  "language_info": {
   "codemirror_mode": {
    "name": "ipython",
    "version": 3
   },
   "file_extension": ".py",
   "mimetype": "text/x-python",
   "name": "python",
   "nbconvert_exporter": "python",
   "pygments_lexer": "ipython3",
   "version": "3.11.6"
  }
 },
 "nbformat": 4,
 "nbformat_minor": 5
}
