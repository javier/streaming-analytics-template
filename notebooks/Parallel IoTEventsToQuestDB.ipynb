{
 "cells": [
  {
   "cell_type": "markdown",
   "id": "8f713298-e12d-4abb-97e1-a907ebcd0da7",
   "metadata": {},
   "source": [
    "# Sending event data in parallel directly into QuestDB\n",
    "\n",
    "*Note*: For an overview of sending data directly into QuestDB, please see first the `IoTEventsToQuestDB` notebook.\n",
    "\n",
    "Even if QuestDB can ingest several millions of events per second, it is unlikely a single process can send as much data over a single connection. In order to get multi-million per second rates, real-life scenarios ingest data from a few different clients and a few different connections to the database.\n",
    "\n",
    "\n",
    "This script simulates sending data in parallel from 6 different processes.\n",
    "\n",
    "The notebook connects to port `9000` of the `questdb` container and sends data continuously (the client library will automatically flush every 75K rows by default). You can configure a delay between rows if you want by changing the the `BATCH` and `DELAY` constants. \n",
    "\n",
    "Take into account that this will write potentially a lot of data in the `./questdb/questdb_root` folder at your repository root. It is safe to remove the contents (but please keep the folder) if you want to free disk space.\n",
    "\n",
    "A live dashboard displaying this dataset can be seen at [http://localhost:3000/d/qdb-iot-parallel-demo/parallel-data-demo?orgId=1&refresh=1s](http://localhost:3000/d/qdb-iot-parallel-demo/parallel-data-demo?orgId=1&refresh=1s) . User is `admin` and password `quest`.\n"
   ]
  },
  {
   "cell_type": "code",
   "execution_count": 7,
   "id": "9d031c80-4259-4409-a546-e10b7cbca1c7",
   "metadata": {},
   "outputs": [
    {
     "name": "stdout",
     "output_type": "stream",
     "text": [
      "Ingestion started. Connecting to 172.31.42.41:9000\n",
      "Sender 1 will send 142857 events\n",
      "Sender 2 will send 142857 events\n",
      "Sender 3 will send 142857 events\n",
      "Sender 0 will send 142858 events\n",
      "Sender 4 will send 142857 events\n",
      "Sender 5 will send 142857 events\n",
      "Sender 6 will send 142857 events\n",
      "https::addr=172.31.42.41:9000;tls_verify=unsafe_off;token=qt1H8Mi_vPUpt_R7ByDdJ7_kRIiieNb_BFKdjBDqxp6wh8;https::addr=172.31.42.41:9000;tls_verify=unsafe_off;token=qt1H8Mi_vPUpt_R7ByDdJ7_kRIiieNb_BFKdjBDqxp6wh8;https::addr=172.31.42.41:9000;tls_verify=unsafe_off;token=qt1H8Mi_vPUpt_R7ByDdJ7_kRIiieNb_BFKdjBDqxp6wh8;https::addr=172.31.42.41:9000;tls_verify=unsafe_off;token=qt1H8Mi_vPUpt_R7ByDdJ7_kRIiieNb_BFKdjBDqxp6wh8;https::addr=172.31.42.41:9000;tls_verify=unsafe_off;token=qt1H8Mi_vPUpt_R7ByDdJ7_kRIiieNb_BFKdjBDqxp6wh8;https::addr=172.31.42.41:9000;tls_verify=unsafe_off;token=qt1H8Mi_vPUpt_R7ByDdJ7_kRIiieNb_BFKdjBDqxp6wh8;https::addr=172.31.42.41:9000;tls_verify=unsafe_off;token=qt1H8Mi_vPUpt_R7ByDdJ7_kRIiieNb_BFKdjBDqxp6wh8;Sender 2 finished sending 142857 events\n",
      "Sender 1 finished sending 142857 events\n",
      "Sender 3 finished sending 142857 events\n",
      "Sender 0 finished sending 142858 events\n",
      "Sender 6 finished sending 142857 events\n",
      "Sender 4 finished sending 142857 events\n",
      "Sender 5 finished sending 142857 events\n"
     ]
    }
   ],
   "source": [
    "from questdb.ingress import Sender, IngressError, TimestampNanos\n",
    "import os\n",
    "import sys\n",
    "import random\n",
    "import time\n",
    "from multiprocessing import Pool\n",
    "import math\n",
    "\n",
    "HTTP_ENDPOINT = os.getenv('QUESTDB_HTTP_ENDPOINT', 'questdb:9000')\n",
    "REST_TOKEN = os.getenv('QUESTDB_REST_TOKEN')\n",
    "\n",
    "DEVICE_TYPES = [\"blue\", \"red\", \"green\", \"yellow\"]\n",
    "TOTAL_EVENTS = 1_000_000  # Total events across all senders\n",
    "BATCH = 75000  # Used for sleep intervals\n",
    "DELAY = 10 \n",
    "NUM_SENDERS = 7  # Number of senders to execute in parallel\n",
    "\n",
    "def send(sender_id, total_events, batch=None, http_endpoint: str = None, auth=None):\n",
    "    sys.stdout.write(f\"Sender {sender_id} will send {total_events} events\\n\")\n",
    "\n",
    "    try:\n",
    "        if auth is not None:\n",
    "            conf = f'https::addr={http_endpoint};tls_verify=unsafe_off;token={auth};'\n",
    "        else:\n",
    "            conf = f'http::addr={http_endpoint};'\n",
    "\n",
    "        sys.stdout.write(conf)\n",
    "        with Sender.from_conf(conf) as sender:\n",
    "            events_sent = 0\n",
    "            while events_sent < total_events:\n",
    "                current_batch_size = min(batch, total_events - events_sent)\n",
    "                for _ in range(current_batch_size):\n",
    "                    sender.row(\n",
    "                        'iot_data',\n",
    "                        symbols={'device_type': random.choice(DEVICE_TYPES)},\n",
    "                        columns={\n",
    "                            'duration_ms': random.randint(0, 4000),\n",
    "                            \"measure1\": random.randint(-2147483648, 2147483647),\n",
    "                            \"measure2\": random.randint(-2147483648, 2147483647),\n",
    "                            \"speed\": random.randint(0, 100)\n",
    "                        },\n",
    "                        at=TimestampNanos.now())\n",
    "                events_sent += current_batch_size\n",
    "                time.sleep(DELAY)\n",
    "            sys.stdout.write(f\"Sender {sender_id} finished sending {events_sent} events\\n\")\n",
    "    except IngressError as e:\n",
    "        sys.stderr.write(f'Sender {sender_id} got error: {e}\\n')\n",
    "\n",
    "def parallel_send(total_events, num_senders: int, batch, http_endpoint, auth):\n",
    "    events_per_sender = math.floor(total_events / num_senders)\n",
    "    remaining_events = total_events % num_senders\n",
    "\n",
    "    sender_events = [events_per_sender] * num_senders\n",
    "    for i in range(remaining_events):  # distribute the remaining events\n",
    "        sender_events[i] += 1\n",
    "\n",
    "    with Pool(processes=num_senders) as pool:\n",
    "        sender_ids = range(num_senders)\n",
    "        pool.starmap(send, [(sender_id, sender_events[sender_id], batch, http_endpoint, auth) for sender_id in sender_ids])\n",
    "\n",
    "if __name__ == '__main__':\n",
    "    sys.stdout.write(f'Ingestion started. Connecting to {HTTP_ENDPOINT}\\n')\n",
    "    parallel_send(TOTAL_EVENTS, NUM_SENDERS, BATCH, HTTP_ENDPOINT, REST_TOKEN)\n"
   ]
  },
  {
   "cell_type": "code",
   "execution_count": null,
   "id": "51087afc-9a8f-4fb3-87b8-1e95ee2a316b",
   "metadata": {},
   "outputs": [],
   "source": []
  }
 ],
 "metadata": {
  "kernelspec": {
   "display_name": "Python 3 (ipykernel)",
   "language": "python",
   "name": "python3"
  },
  "language_info": {
   "codemirror_mode": {
    "name": "ipython",
    "version": 3
   },
   "file_extension": ".py",
   "mimetype": "text/x-python",
   "name": "python",
   "nbconvert_exporter": "python",
   "pygments_lexer": "ipython3",
   "version": "3.11.6"
  }
 },
 "nbformat": 4,
 "nbformat_minor": 5
}
