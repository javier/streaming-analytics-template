{
 "cells": [
  {
   "cell_type": "code",
   "execution_count": 4,
   "id": "0b9835b8-2b20-4b1c-b893-5ef647db99e7",
   "metadata": {},
   "outputs": [
    {
     "name": "stdout",
     "output_type": "stream",
     "text": [
      "(5, 'ilp_test', 'timestamp', 'DAY', 500000, 600000000, True, 'ilp_test~5', False)\n"
     ]
    }
   ],
   "source": [
    "import psycopg as pg\n",
    "import time\n",
    "\n",
    "# Connect to an existing QuestDB instance\n",
    "\n",
    "conn_str = 'user=admin password=quest host=host.docker.internal port=18812 dbname=qdb'\n",
    "with pg.connect(conn_str, autocommit=True) as connection:\n",
    "\n",
    "    # Open a cursor to perform database operations\n",
    "\n",
    "    with connection.cursor() as cur:\n",
    "\n",
    "        #Query the database and obtain data as Python objects.\n",
    "\n",
    "        cur.execute('SELECT * FROM tables;')\n",
    "        records = cur.fetchall()\n",
    "        for row in records:\n",
    "            print(row)\n",
    "\n",
    "# the connection is now closed\n"
   ]
  },
  {
   "cell_type": "code",
   "execution_count": null,
   "id": "619fe457-b80c-40c2-80f9-54eceefa4d82",
   "metadata": {},
   "outputs": [],
   "source": []
  }
 ],
 "metadata": {
  "kernelspec": {
   "display_name": "Python 3 (ipykernel)",
   "language": "python",
   "name": "python3"
  },
  "language_info": {
   "codemirror_mode": {
    "name": "ipython",
    "version": 3
   },
   "file_extension": ".py",
   "mimetype": "text/x-python",
   "name": "python",
   "nbconvert_exporter": "python",
   "pygments_lexer": "ipython3",
   "version": "3.11.6"
  }
 },
 "nbformat": 4,
 "nbformat_minor": 5
}
