{
 "cells": [
  {
   "cell_type": "markdown",
   "id": "8f713298-e12d-4abb-97e1-a907ebcd0da7",
   "metadata": {},
   "source": [
    "# Sending event data directly into QuestDB\n",
    "\n",
    "QuestDB is designed for high throughput, and can ingest streaming data at over 4 million events per second (using 12 CPUs and a fast drive). \n",
    "\n",
    "If your only reason to use Kafka in front of QuestDB is for ingestion speed, it might be the case you don't need it. \n",
    "\n",
    "Of course having Kafka as the ingestion layer gives you more flexibility, as you can easily send data to multiple consumers — other than QuestDB —, or you can restart the QuestDB server without stopping ingestion. On the other hand, adding Kafka means some (minor) extra latency and one more component to manage.\n",
    "\n",
    "In the end, some teams would prefer to ingest into Kafka, and some directly into QuestDB. It all depends on your specific use case. QuestDB supports [multiple ways of ingesting data](https://questdb.io/docs/develop/insert-data/), but the fastest is by using the ILP protocol via the official clients.\n",
    "\n",
    "This notebook uses the Python client for convenience, but the usage would be very similar using the [client libraries](https://questdb.io/docs/reference/clients/overview/) in NodeJs, Java, .Net, C/C++, Rust, or Go.\n",
    "\n",
    "The notebook connects to port `9000` of the `questdb` container and sends data continuously (the client library will automatically flush every 75K rows by default). You can configure a delay between rows if you want by changing the the `BATCH` and `DELAY` constants.\n",
    "\n",
    "The script ingest a mix of different types so you can experiment with different queries and dashboards. In a modern laptop you should be able to set a `BATCH` of 10000 and a `DELAY` of 0.1 seconds and still be responsive. Take into account that this will write potentially a lot of data in the `./questdb/questdb_root` folder at your repository root. It is safe to remove the contents (but please keep the folder) if you want to free disk space.\n",
    "\n",
    "A live dashboard displaying this dataset can be seen at [http://localhost:3000/d/qdb-iot-demo/device-data-questdb-demo?orgId=1&refresh=500ms&from=now-5m&to=now](http://localhost:3000/d/qdb-iot-demo/device-data-questdb-demo?orgId=1&refresh=500ms&from=now-5m&to=now) . User is `admin` and password `quest`.\n"
   ]
  },
  {
   "cell_type": "code",
   "execution_count": 1,
   "id": "9d031c80-4259-4409-a546-e10b7cbca1c7",
   "metadata": {},
   "outputs": [
    {
     "name": "stdout",
     "output_type": "stream",
     "text": [
      "Ingestion started. Connecting to host.docker.internal:9000\n",
      "sent : 100 rows\n",
      "sent : 100 rows\n",
      "sent : 100 rows\n",
      "sent : 100 rows\n",
      "sent : 100 rows\n",
      "sent : 100 rows\n",
      "sent : 100 rows\n",
      "sent : 100 rows\n",
      "sent : 100 rows\n",
      "sent : 100 rows\n",
      "sent : 100 rows\n",
      "sent : 100 rows\n",
      "sent : 100 rows\n",
      "sent : 100 rows\n",
      "sent : 100 rows\n",
      "sent : 100 rows\n",
      "sent : 100 rows\n",
      "sent : 100 rows\n",
      "sent : 100 rows\n",
      "sent : 100 rows\n",
      "sent : 100 rows\n",
      "sent : 100 rows\n",
      "sent : 100 rows\n",
      "sent : 100 rows\n",
      "sent : 100 rows\n",
      "sent : 100 rows\n",
      "sent : 100 rows\n",
      "sent : 100 rows\n",
      "sent : 100 rows\n"
     ]
    },
    {
     "ename": "KeyboardInterrupt",
     "evalue": "",
     "output_type": "error",
     "traceback": [
      "\u001b[0;31m---------------------------------------------------------------------------\u001b[0m",
      "\u001b[0;31mKeyboardInterrupt\u001b[0m                         Traceback (most recent call last)",
      "Cell \u001b[0;32mIn[1], line 46\u001b[0m\n\u001b[1;32m     44\u001b[0m \u001b[38;5;28;01mif\u001b[39;00m \u001b[38;5;18m__name__\u001b[39m \u001b[38;5;241m==\u001b[39m \u001b[38;5;124m'\u001b[39m\u001b[38;5;124m__main__\u001b[39m\u001b[38;5;124m'\u001b[39m:\n\u001b[1;32m     45\u001b[0m     sys\u001b[38;5;241m.\u001b[39mstdout\u001b[38;5;241m.\u001b[39mwrite(\u001b[38;5;124mf\u001b[39m\u001b[38;5;124m'\u001b[39m\u001b[38;5;124mIngestion started. Connecting to \u001b[39m\u001b[38;5;132;01m{\u001b[39;00mHTTP_ENDPOINT\u001b[38;5;132;01m}\u001b[39;00m\u001b[38;5;130;01m\\n\u001b[39;00m\u001b[38;5;124m'\u001b[39m)\n\u001b[0;32m---> 46\u001b[0m     \u001b[43msend\u001b[49m\u001b[43m(\u001b[49m\u001b[43m)\u001b[49m\n",
      "Cell \u001b[0;32mIn[1], line 39\u001b[0m, in \u001b[0;36msend\u001b[0;34m(http_endpoint, auth)\u001b[0m\n\u001b[1;32m     25\u001b[0m                 sender\u001b[38;5;241m.\u001b[39mrow(\n\u001b[1;32m     26\u001b[0m                     \u001b[38;5;124m'\u001b[39m\u001b[38;5;124miot_data\u001b[39m\u001b[38;5;124m'\u001b[39m,\n\u001b[1;32m     27\u001b[0m                     symbols\u001b[38;5;241m=\u001b[39m{\u001b[38;5;124m'\u001b[39m\u001b[38;5;124mdevice_type\u001b[39m\u001b[38;5;124m'\u001b[39m: random\u001b[38;5;241m.\u001b[39mchoice(DEVICE_TYPES)},\n\u001b[0;32m   (...)\u001b[0m\n\u001b[1;32m     35\u001b[0m                     },\n\u001b[1;32m     36\u001b[0m                     at\u001b[38;5;241m=\u001b[39mTimestampNanos\u001b[38;5;241m.\u001b[39mnow())                \n\u001b[1;32m     37\u001b[0m             sys\u001b[38;5;241m.\u001b[39mstdout\u001b[38;5;241m.\u001b[39mwrite(\u001b[38;5;124mf\u001b[39m\u001b[38;5;124m'\u001b[39m\u001b[38;5;124msent : \u001b[39m\u001b[38;5;132;01m{\u001b[39;00mBATCH\u001b[38;5;132;01m}\u001b[39;00m\u001b[38;5;124m rows\u001b[39m\u001b[38;5;130;01m\\n\u001b[39;00m\u001b[38;5;124m'\u001b[39m)\n\u001b[0;32m---> 39\u001b[0m             time\u001b[38;5;241m.\u001b[39msleep(DELAY)\n\u001b[1;32m     40\u001b[0m \u001b[38;5;28;01mexcept\u001b[39;00m IngressError \u001b[38;5;28;01mas\u001b[39;00m e:\n\u001b[1;32m     41\u001b[0m     sys\u001b[38;5;241m.\u001b[39mstderr\u001b[38;5;241m.\u001b[39mwrite(\u001b[38;5;124mf\u001b[39m\u001b[38;5;124m'\u001b[39m\u001b[38;5;124mGot error: \u001b[39m\u001b[38;5;132;01m{\u001b[39;00me\u001b[38;5;132;01m}\u001b[39;00m\u001b[38;5;124m'\u001b[39m)\n",
      "\u001b[0;31mKeyboardInterrupt\u001b[0m: "
     ]
    }
   ],
   "source": [
    "from questdb.ingress import Sender, IngressError, TimestampNanos\n",
    "import os\n",
    "import sys\n",
    "import random\n",
    "import time\n",
    "\n",
    "HTTP_ENDPOINT = os.getenv('QUESTDB_HTTP_ENDPOINT', 'questdb:9000')\n",
    "\n",
    "DEVICE_TYPES = [\"blue\", \"red\", \"green\", \"yellow\"]\n",
    "ITER = 1000\n",
    "BATCH = 100\n",
    "DELAY = 1\n",
    "MIN_LAT = 19.50139\n",
    "MAX_LAT = 64.85694\n",
    "MIN_LON = -161.75583\n",
    "MAX_LON = -68.01197\n",
    "\n",
    "\n",
    "def send(http_endpoint: str = HTTP_ENDPOINT, auth=None):\n",
    "    try:\n",
    "        conf = f'http::addr={http_endpoint};'\n",
    "        with Sender.from_conf(conf) as sender:\n",
    "            for it in range(ITER):\n",
    "                for i in range(BATCH):\n",
    "                    sender.row(\n",
    "                        'iot_data',\n",
    "                        symbols={'device_type': random.choice(DEVICE_TYPES)},\n",
    "                        columns={\n",
    "                                    'duration_ms': random.randint(0, 4000),\n",
    "                                    \"lat\": random.uniform(MIN_LAT, MAX_LAT),\n",
    "                                    \"lon\": random.uniform(MIN_LON, MAX_LON),\n",
    "                                    \"measure1\": random.randint(-2147483648, 2147483647),\n",
    "                                    \"measure2\": random.randint(-2147483648, 2147483647),\n",
    "                                    \"speed\": random.randint(0, 100)\n",
    "                        },\n",
    "                        at=TimestampNanos.now())                \n",
    "                sys.stdout.write(f'sent : {BATCH} rows\\n')\n",
    "                \n",
    "                time.sleep(DELAY)\n",
    "    except IngressError as e:\n",
    "        sys.stderr.write(f'Got error: {e}')\n",
    "\n",
    "\n",
    "if __name__ == '__main__':\n",
    "    sys.stdout.write(f'Ingestion started. Connecting to {HTTP_ENDPOINT}\\n')\n",
    "    send()"
   ]
  },
  {
   "cell_type": "code",
   "execution_count": null,
   "id": "51087afc-9a8f-4fb3-87b8-1e95ee2a316b",
   "metadata": {},
   "outputs": [],
   "source": []
  }
 ],
 "metadata": {
  "kernelspec": {
   "display_name": "Python 3 (ipykernel)",
   "language": "python",
   "name": "python3"
  },
  "language_info": {
   "codemirror_mode": {
    "name": "ipython",
    "version": 3
   },
   "file_extension": ".py",
   "mimetype": "text/x-python",
   "name": "python",
   "nbconvert_exporter": "python",
   "pygments_lexer": "ipython3",
   "version": "3.11.6"
  }
 },
 "nbformat": 4,
 "nbformat_minor": 5
}
