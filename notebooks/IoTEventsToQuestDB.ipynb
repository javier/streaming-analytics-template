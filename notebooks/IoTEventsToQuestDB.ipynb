{
 "cells": [
  {
   "cell_type": "code",
   "execution_count": null,
   "id": "9d031c80-4259-4409-a546-e10b7cbca1c7",
   "metadata": {},
   "outputs": [],
   "source": [
    "from questdb.ingress import Sender, IngressError, TimestampNanos\n",
    "import os\n",
    "import sys\n",
    "import random\n",
    "import time\n",
    "\n",
    "HOST = os.getenv('QDB_CLIENT_HOST', 'questdb')\n",
    "PORT = os.getenv('QDB_CLIENT_PORT', 9009)\n",
    "\n",
    "DEVICE_TYPES = [\"blue\", \"red\", \"green\", \"yellow\"]\n",
    "ITER = 10000\n",
    "BATCH = 10000\n",
    "DELAY = 0.1\n",
    "MIN_LAT = 19.50139\n",
    "MAX_LAT = 64.85694\n",
    "MIN_LON = -161.75583\n",
    "MAX_LON = -68.01197\n",
    "\n",
    "\n",
    "def send(host: str = HOST, port: int = PORT):\n",
    "    try:\n",
    "        auth = None\n",
    "        with Sender(host, port, auth=auth) as sender:\n",
    "            for it in range(ITER):\n",
    "                for i in range(BATCH):\n",
    "                    sender.row(\n",
    "                        'iot_data',\n",
    "                        symbols={'device_type': random.choice(DEVICE_TYPES)},\n",
    "                        columns={\n",
    "                                    'duration_ms': random.randint(0, 4000),\n",
    "                                    \"lat\": random.uniform(MIN_LAT, MAX_LAT),\n",
    "                                    \"lon\": random.uniform(MIN_LON, MAX_LON),\n",
    "                                    \"measure1\": random.randint(-2147483648, 2147483647),\n",
    "                                    \"measure2\": random.randint(-2147483648, 2147483647),\n",
    "                                    \"speed\": random.randint(0, 100)\n",
    "                        },\n",
    "                        at=TimestampNanos.now())\n",
    "                sys.stdout.write(f'sent : {BATCH} rows\\n')\n",
    "                sender.flush()\n",
    "                time.sleep(DELAY)\n",
    "    except IngressError as e:\n",
    "        sys.stderr.write(f'Got error: {e}')\n",
    "\n",
    "\n",
    "if __name__ == '__main__':\n",
    "    sys.stdout.write(f'Ingestion started. Connecting to {HOST} {PORT}\\n')\n",
    "    send()"
   ]
  }
 ],
 "metadata": {
  "kernelspec": {
   "display_name": "Python 3 (ipykernel)",
   "language": "python",
   "name": "python3"
  },
  "language_info": {
   "codemirror_mode": {
    "name": "ipython",
    "version": 3
   },
   "file_extension": ".py",
   "mimetype": "text/x-python",
   "name": "python",
   "nbconvert_exporter": "python",
   "pygments_lexer": "ipython3",
   "version": "3.11.6"
  }
 },
 "nbformat": 4,
 "nbformat_minor": 5
}
