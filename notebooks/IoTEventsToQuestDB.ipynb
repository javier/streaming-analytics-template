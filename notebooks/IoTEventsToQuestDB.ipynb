{
 "cells": [
  {
   "cell_type": "markdown",
   "id": "8f713298-e12d-4abb-97e1-a907ebcd0da7",
   "metadata": {},
   "source": [
    "# Sending event data directly into QuestDB\n",
    "\n",
    "QuestDB is designed for high throughput, and can ingest streaming data at over 4 million events per second (using 12 CPUs and a fast drive). \n",
    "\n",
    "If your only reason to use Kafka in front of QuestDB is for ingestion speed, it might be the case you don't need it. \n",
    "\n",
    "Of course having Kafka as the ingestion layer gives you more flexibility, as you can easily send data to multiple consumers — other than QuestDB —, or you can restart the QuestDB server without stopping ingestion. On the other hand, adding Kafka means some (minor) extra latency and one more component to manage.\n",
    "\n",
    "In the end, some teams would prefer to ingest into Kafka, and some directly into QuestDB. It all depends on your specific use case. QuestDB supports [multiple ways of ingesting data](https://questdb.io/docs/develop/insert-data/), but the fastest is by using the ILP protocol via the official clients.\n",
    "\n",
    "This notebook uses the Python client for convenience, but the usage would be very similar using the [client libraries](https://questdb.io/docs/reference/clients/overview/) in NodeJs, Java, .Net, C/C++, Rust, or Go.\n",
    "\n",
    "The notebook connects to port `9009` of the `questdb` container and sends data in batches of 100 rows per second into a table named \"iot_data\". The data is just randomly generated to keep the demo as simple as possible. It ingest a mix of different types so you can experiment with different queries and dashboards.\n",
    "\n",
    "If you want, you can change the `BATCH` and `DELAY` constants to make visualizations more engaging. In a modern laptop you should be able to set a `BATCH` of 10000 and a `DELAY` of 0.1 seconds and still be responsive. Take into account that this will write potentially a lot of data in the `./questdb/questdb_root` folder at your repository root. It is safe to remove the contents (but please keep the folder) if you want to free disk space.\n",
    "\n",
    "A live dashboard displaying this dataset can be seen at [http://localhost:3000/d/qdb-iot-demo/device-data-questdb-demo?orgId=1&refresh=500ms&from=now-5m&to=now](http://localhost:3000/d/qdb-iot-demo/device-data-questdb-demo?orgId=1&refresh=500ms&from=now-5m&to=now) . User is `admin` and password `quest`.\n"
   ]
  },
  {
   "cell_type": "code",
   "execution_count": 2,
   "id": "9d031c80-4259-4409-a546-e10b7cbca1c7",
   "metadata": {},
   "outputs": [
    {
     "name": "stdout",
     "output_type": "stream",
     "text": [
      "Ingestion started. Connecting to questdb 9009\n",
      "sent : 100 rows\n",
      "sent : 100 rows\n",
      "sent : 100 rows\n",
      "sent : 100 rows\n"
     ]
    },
    {
     "ename": "KeyboardInterrupt",
     "evalue": "",
     "output_type": "error",
     "traceback": [
      "\u001b[0;31m---------------------------------------------------------------------------\u001b[0m",
      "\u001b[0;31mKeyboardInterrupt\u001b[0m                         Traceback (most recent call last)",
      "Cell \u001b[0;32mIn[2], line 47\u001b[0m\n\u001b[1;32m     45\u001b[0m \u001b[38;5;28;01mif\u001b[39;00m \u001b[38;5;18m__name__\u001b[39m \u001b[38;5;241m==\u001b[39m \u001b[38;5;124m'\u001b[39m\u001b[38;5;124m__main__\u001b[39m\u001b[38;5;124m'\u001b[39m:\n\u001b[1;32m     46\u001b[0m     sys\u001b[38;5;241m.\u001b[39mstdout\u001b[38;5;241m.\u001b[39mwrite(\u001b[38;5;124mf\u001b[39m\u001b[38;5;124m'\u001b[39m\u001b[38;5;124mIngestion started. Connecting to \u001b[39m\u001b[38;5;132;01m{\u001b[39;00mHOST\u001b[38;5;132;01m}\u001b[39;00m\u001b[38;5;124m \u001b[39m\u001b[38;5;132;01m{\u001b[39;00mPORT\u001b[38;5;132;01m}\u001b[39;00m\u001b[38;5;130;01m\\n\u001b[39;00m\u001b[38;5;124m'\u001b[39m)\n\u001b[0;32m---> 47\u001b[0m     \u001b[43msend\u001b[49m\u001b[43m(\u001b[49m\u001b[43m)\u001b[49m\n",
      "Cell \u001b[0;32mIn[2], line 40\u001b[0m, in \u001b[0;36msend\u001b[0;34m(host, port)\u001b[0m\n\u001b[1;32m     38\u001b[0m             sys\u001b[38;5;241m.\u001b[39mstdout\u001b[38;5;241m.\u001b[39mwrite(\u001b[38;5;124mf\u001b[39m\u001b[38;5;124m'\u001b[39m\u001b[38;5;124msent : \u001b[39m\u001b[38;5;132;01m{\u001b[39;00mBATCH\u001b[38;5;132;01m}\u001b[39;00m\u001b[38;5;124m rows\u001b[39m\u001b[38;5;130;01m\\n\u001b[39;00m\u001b[38;5;124m'\u001b[39m)\n\u001b[1;32m     39\u001b[0m             sender\u001b[38;5;241m.\u001b[39mflush()\n\u001b[0;32m---> 40\u001b[0m             time\u001b[38;5;241m.\u001b[39msleep(DELAY)\n\u001b[1;32m     41\u001b[0m \u001b[38;5;28;01mexcept\u001b[39;00m IngressError \u001b[38;5;28;01mas\u001b[39;00m e:\n\u001b[1;32m     42\u001b[0m     sys\u001b[38;5;241m.\u001b[39mstderr\u001b[38;5;241m.\u001b[39mwrite(\u001b[38;5;124mf\u001b[39m\u001b[38;5;124m'\u001b[39m\u001b[38;5;124mGot error: \u001b[39m\u001b[38;5;132;01m{\u001b[39;00me\u001b[38;5;132;01m}\u001b[39;00m\u001b[38;5;124m'\u001b[39m)\n",
      "\u001b[0;31mKeyboardInterrupt\u001b[0m: "
     ]
    }
   ],
   "source": [
    "from questdb.ingress import Sender, IngressError, TimestampNanos\n",
    "import os\n",
    "import sys\n",
    "import random\n",
    "import time\n",
    "\n",
    "HOST = os.getenv('QDB_CLIENT_HOST', 'questdb')\n",
    "PORT = os.getenv('QDB_CLIENT_PORT', 9009)\n",
    "\n",
    "DEVICE_TYPES = [\"blue\", \"red\", \"green\", \"yellow\"]\n",
    "ITER = 10000\n",
    "BATCH = 100\n",
    "DELAY = 1\n",
    "MIN_LAT = 19.50139\n",
    "MAX_LAT = 64.85694\n",
    "MIN_LON = -161.75583\n",
    "MAX_LON = -68.01197\n",
    "\n",
    "\n",
    "def send(host: str = HOST, port: int = PORT):\n",
    "    try:\n",
    "        auth = None\n",
    "        with Sender(host, port, auth=auth) as sender:\n",
    "            for it in range(ITER):\n",
    "                for i in range(BATCH):\n",
    "                    sender.row(\n",
    "                        'iot_data',\n",
    "                        symbols={'device_type': random.choice(DEVICE_TYPES)},\n",
    "                        columns={\n",
    "                                    'duration_ms': random.randint(0, 4000),\n",
    "                                    \"lat\": random.uniform(MIN_LAT, MAX_LAT),\n",
    "                                    \"lon\": random.uniform(MIN_LON, MAX_LON),\n",
    "                                    \"measure1\": random.randint(-2147483648, 2147483647),\n",
    "                                    \"measure2\": random.randint(-2147483648, 2147483647),\n",
    "                                    \"speed\": random.randint(0, 100)\n",
    "                        },\n",
    "                        at=TimestampNanos.now())\n",
    "                sys.stdout.write(f'sent : {BATCH} rows\\n')\n",
    "                sender.flush()\n",
    "                time.sleep(DELAY)\n",
    "    except IngressError as e:\n",
    "        sys.stderr.write(f'Got error: {e}')\n",
    "\n",
    "\n",
    "if __name__ == '__main__':\n",
    "    sys.stdout.write(f'Ingestion started. Connecting to {HOST} {PORT}\\n')\n",
    "    send()"
   ]
  }
 ],
 "metadata": {
  "kernelspec": {
   "display_name": "Python 3 (ipykernel)",
   "language": "python",
   "name": "python3"
  },
  "language_info": {
   "codemirror_mode": {
    "name": "ipython",
    "version": 3
   },
   "file_extension": ".py",
   "mimetype": "text/x-python",
   "name": "python",
   "nbconvert_exporter": "python",
   "pygments_lexer": "ipython3",
   "version": "3.11.6"
  }
 },
 "nbformat": 4,
 "nbformat_minor": 5
}
